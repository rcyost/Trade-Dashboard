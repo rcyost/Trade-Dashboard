{
 "cells": [
  {
   "cell_type": "code",
   "execution_count": null,
   "id": "6d739d8a",
   "metadata": {
    "lines_to_next_cell": 0,
    "papermill": {
     "duration": 0.009998,
     "end_time": "2022-03-01T02:31:00.763517",
     "exception": false,
     "start_time": "2022-03-01T02:31:00.753519",
     "status": "completed"
    },
    "tags": []
   },
   "outputs": [],
   "source": []
  },
  {
   "cell_type": "code",
   "execution_count": 1,
   "id": "b780d2f4",
   "metadata": {
    "execution": {
     "iopub.execute_input": "2022-03-01T02:31:00.795519Z",
     "iopub.status.busy": "2022-03-01T02:31:00.791524Z",
     "iopub.status.idle": "2022-03-01T02:31:00.868521Z",
     "shell.execute_reply": "2022-03-01T02:31:00.866527Z"
    },
    "papermill": {
     "duration": 0.095001,
     "end_time": "2022-03-01T02:31:00.869520",
     "exception": false,
     "start_time": "2022-03-01T02:31:00.774519",
     "status": "completed"
    },
    "tags": [
     "parameters"
    ]
   },
   "outputs": [],
   "source": [
    "upstream = NULL\n",
    "product = NULL\n"
   ]
  },
  {
   "cell_type": "code",
   "execution_count": 2,
   "id": "a22a9885",
   "metadata": {
    "execution": {
     "iopub.execute_input": "2022-03-01T02:31:01.052040Z",
     "iopub.status.busy": "2022-03-01T02:31:00.907521Z",
     "iopub.status.idle": "2022-03-01T02:31:01.089063Z",
     "shell.execute_reply": "2022-03-01T02:31:01.085038Z"
    },
    "papermill": {
     "duration": 0.198523,
     "end_time": "2022-03-01T02:31:01.090043",
     "exception": false,
     "start_time": "2022-03-01T02:31:00.891520",
     "status": "completed"
    },
    "tags": [
     "injected-parameters"
    ]
   },
   "outputs": [],
   "source": [
    "# Parameters\n",
    "product = list(\"nb\" = \"C:\\\\Users\\\\yosty\\\\Desktop\\\\Desktop_Folder\\\\14 - git\\\\timeSeriesDOTS\\\\ploomber\\\\dots\\\\00-data_collection\\\\downloadData.ipynb\", \"counterparts\" = \"C:\\\\Users\\\\yosty\\\\Desktop\\\\Desktop_Folder\\\\14 - git\\\\timeSeriesDOTS\\\\ploomber\\\\dots\\\\00-data_collection\\\\metadata\\\\counterparts.csv\", \"countries\" = \"C:\\\\Users\\\\yosty\\\\Desktop\\\\Desktop_Folder\\\\14 - git\\\\timeSeriesDOTS\\\\ploomber\\\\dots\\\\00-data_collection\\\\metadata\\\\countries.csv\")\n"
   ]
  },
  {
   "cell_type": "code",
   "execution_count": 3,
   "id": "b8726e44",
   "metadata": {
    "execution": {
     "iopub.execute_input": "2022-03-01T02:31:01.125054Z",
     "iopub.status.busy": "2022-03-01T02:31:01.123043Z",
     "iopub.status.idle": "2022-03-01T02:31:01.339042Z",
     "shell.execute_reply": "2022-03-01T02:31:01.336039Z"
    },
    "papermill": {
     "duration": 0.232995,
     "end_time": "2022-03-01T02:31:01.340041",
     "exception": false,
     "start_time": "2022-03-01T02:31:01.107046",
     "status": "completed"
    },
    "tags": []
   },
   "outputs": [
    {
     "name": "stderr",
     "output_type": "stream",
     "text": [
      "Warning message:\n",
      "\"package 'rdbnomics' was built under R version 4.0.5\"\n"
     ]
    },
    {
     "name": "stderr",
     "output_type": "stream",
     "text": [
      "Visit <https://db.nomics.world>.\n",
      "\n"
     ]
    }
   ],
   "source": [
    "library(rdbnomics)"
   ]
  },
  {
   "cell_type": "code",
   "execution_count": 4,
   "id": "bdc83173",
   "metadata": {
    "execution": {
     "iopub.execute_input": "2022-03-01T02:31:01.367038Z",
     "iopub.status.busy": "2022-03-01T02:31:01.365039Z",
     "iopub.status.idle": "2022-03-01T02:31:01.870049Z",
     "shell.execute_reply": "2022-03-01T02:31:01.868047Z"
    },
    "papermill": {
     "duration": 0.519009,
     "end_time": "2022-03-01T02:31:01.871048",
     "exception": false,
     "start_time": "2022-03-01T02:31:01.352039",
     "status": "completed"
    },
    "tags": []
   },
   "outputs": [],
   "source": [
    "# get imf metadata\n",
    "imf_datasets <- rdbnomics::rdb_datasets(provider_code = \"IMF\")"
   ]
  },
  {
   "cell_type": "code",
   "execution_count": 5,
   "id": "dad80caa",
   "metadata": {
    "execution": {
     "iopub.execute_input": "2022-03-01T02:31:01.890048Z",
     "iopub.status.busy": "2022-03-01T02:31:01.889082Z",
     "iopub.status.idle": "2022-03-01T02:31:02.066392Z",
     "shell.execute_reply": "2022-03-01T02:31:02.065394Z"
    },
    "papermill": {
     "duration": 0.185345,
     "end_time": "2022-03-01T02:31:02.066392",
     "exception": false,
     "start_time": "2022-03-01T02:31:01.881047",
     "status": "completed"
    },
    "tags": []
   },
   "outputs": [],
   "source": [
    "dataset <- \"DOT\"\n",
    "dim <- rdbnomics::rdb_dimensions(provider_code = \"IMF\", dataset_code = dataset)\n",
    "countries <- dim$IMF$DOT$REF_AREA\n",
    "counterpart <- dim$IMF$DOT$COUNTERPART_AREA"
   ]
  },
  {
   "cell_type": "code",
   "execution_count": 6,
   "id": "462eb0aa",
   "metadata": {
    "execution": {
     "iopub.execute_input": "2022-03-01T02:31:02.081391Z",
     "iopub.status.busy": "2022-03-01T02:31:02.080419Z",
     "iopub.status.idle": "2022-03-01T02:31:02.108393Z",
     "shell.execute_reply": "2022-03-01T02:31:02.105397Z"
    },
    "papermill": {
     "duration": 0.034998,
     "end_time": "2022-03-01T02:31:02.108393",
     "exception": false,
     "start_time": "2022-03-01T02:31:02.073395",
     "status": "completed"
    },
    "tags": []
   },
   "outputs": [],
   "source": [
    "write.csv(countries, product$countries)\n",
    "write.csv(counterpart, product$counterparts)"
   ]
  },
  {
   "cell_type": "code",
   "execution_count": null,
   "id": "4173174d",
   "metadata": {
    "papermill": {
     "duration": 0.005994,
     "end_time": "2022-03-01T02:31:02.120412",
     "exception": false,
     "start_time": "2022-03-01T02:31:02.114418",
     "status": "completed"
    },
    "tags": []
   },
   "outputs": [],
   "source": []
  }
 ],
 "metadata": {
  "jupytext": {
   "cell_metadata_filter": "tags,-all",
   "main_language": "R",
   "notebook_metadata_filter": "-all",
   "text_representation": {
    "extension": ".R",
    "format_name": "light"
   }
  },
  "kernelspec": {
   "display_name": "R",
   "language": "R",
   "name": "ir"
  },
  "language_info": {
   "codemirror_mode": "r",
   "file_extension": ".r",
   "mimetype": "text/x-r-source",
   "name": "R",
   "pygments_lexer": "r",
   "version": "4.0.3"
  },
  "papermill": {
   "duration": 2.914198,
   "end_time": "2022-03-01T02:31:02.244399",
   "exception": null,
   "input_path": "C:\\Users\\yosty\\AppData\\Local\\Temp\\tmp8_uc8lbg.ipynb",
   "output_path": "C:\\Users\\yosty\\Desktop\\Desktop_Folder\\14 - git\\timeSeriesDOTS\\ploomber\\dots\\00-data_collection\\downloadData.ipynb",
   "parameters": {
    "product": {
     "counterparts": "C:\\Users\\yosty\\Desktop\\Desktop_Folder\\14 - git\\timeSeriesDOTS\\ploomber\\dots\\00-data_collection\\metadata\\counterparts.csv",
     "countries": "C:\\Users\\yosty\\Desktop\\Desktop_Folder\\14 - git\\timeSeriesDOTS\\ploomber\\dots\\00-data_collection\\metadata\\countries.csv",
     "nb": "C:\\Users\\yosty\\Desktop\\Desktop_Folder\\14 - git\\timeSeriesDOTS\\ploomber\\dots\\00-data_collection\\downloadData.ipynb"
    }
   },
   "start_time": "2022-03-01T02:30:59.330201"
  }
 },
 "nbformat": 4,
 "nbformat_minor": 5
}