{
 "cells": [
  {
   "cell_type": "code",
   "execution_count": null,
   "id": "c3366e6e",
   "metadata": {
    "lines_to_next_cell": 0,
    "papermill": {
     "duration": 0.006929,
     "end_time": "2022-03-19T01:53:42.943952",
     "exception": false,
     "start_time": "2022-03-19T01:53:42.937023",
     "status": "completed"
    },
    "tags": []
   },
   "outputs": [],
   "source": []
  },
  {
   "cell_type": "code",
   "execution_count": 1,
   "id": "3231ecce",
   "metadata": {
    "execution": {
     "iopub.execute_input": "2022-03-19T01:53:42.959916Z",
     "iopub.status.busy": "2022-03-19T01:53:42.956920Z",
     "iopub.status.idle": "2022-03-19T01:53:42.988916Z",
     "shell.execute_reply": "2022-03-19T01:53:42.988916Z"
    },
    "lines_to_next_cell": 2,
    "papermill": {
     "duration": 0.04,
     "end_time": "2022-03-19T01:53:42.988916",
     "exception": false,
     "start_time": "2022-03-19T01:53:42.948916",
     "status": "completed"
    },
    "tags": [
     "parameters"
    ]
   },
   "outputs": [],
   "source": [
    "upstream = NULL\n",
    "product = NULL"
   ]
  },
  {
   "cell_type": "code",
   "execution_count": 2,
   "id": "d83496e8",
   "metadata": {
    "execution": {
     "iopub.execute_input": "2022-03-19T01:53:43.037953Z",
     "iopub.status.busy": "2022-03-19T01:53:42.999951Z",
     "iopub.status.idle": "2022-03-19T01:53:43.050916Z",
     "shell.execute_reply": "2022-03-19T01:53:43.050916Z"
    },
    "papermill": {
     "duration": 0.058963,
     "end_time": "2022-03-19T01:53:43.051917",
     "exception": false,
     "start_time": "2022-03-19T01:53:42.992954",
     "status": "completed"
    },
    "tags": [
     "injected-parameters"
    ]
   },
   "outputs": [],
   "source": [
    "# Parameters\n",
    "product = list(\"nb\" = \"C:\\\\Users\\\\yosty\\\\Desktop\\\\Desktop_Folder\\\\14 - git\\\\timeSeriesDOTS\\\\ploomber\\\\dots\\\\00-data\\\\downLoadMetaData.ipynb\", \"counterparts\" = \"C:\\\\Users\\\\yosty\\\\Desktop\\\\Desktop_Folder\\\\14 - git\\\\timeSeriesDOTS\\\\ploomber\\\\dots\\\\00-data\\\\metadata\\\\counterparts.csv\", \"countries\" = \"C:\\\\Users\\\\yosty\\\\Desktop\\\\Desktop_Folder\\\\14 - git\\\\timeSeriesDOTS\\\\ploomber\\\\dots\\\\00-data\\\\metadata\\\\countries.csv\")\n"
   ]
  },
  {
   "cell_type": "code",
   "execution_count": 3,
   "id": "46022c22",
   "metadata": {
    "execution": {
     "iopub.execute_input": "2022-03-19T01:53:43.063918Z",
     "iopub.status.busy": "2022-03-19T01:53:43.062920Z",
     "iopub.status.idle": "2022-03-19T01:53:43.225917Z",
     "shell.execute_reply": "2022-03-19T01:53:43.223920Z"
    },
    "papermill": {
     "duration": 0.170001,
     "end_time": "2022-03-19T01:53:43.225917",
     "exception": false,
     "start_time": "2022-03-19T01:53:43.055916",
     "status": "completed"
    },
    "tags": []
   },
   "outputs": [
    {
     "name": "stderr",
     "output_type": "stream",
     "text": [
      "Warning message:\n",
      "\"package 'rdbnomics' was built under R version 4.0.5\"\n"
     ]
    },
    {
     "name": "stderr",
     "output_type": "stream",
     "text": [
      "Visit <https://db.nomics.world>.\n",
      "\n"
     ]
    }
   ],
   "source": [
    "library(rdbnomics)"
   ]
  },
  {
   "cell_type": "code",
   "execution_count": 4,
   "id": "d58356f5",
   "metadata": {
    "execution": {
     "iopub.execute_input": "2022-03-19T01:53:43.238806Z",
     "iopub.status.busy": "2022-03-19T01:53:43.236806Z",
     "iopub.status.idle": "2022-03-19T01:53:44.263565Z",
     "shell.execute_reply": "2022-03-19T01:53:44.262599Z"
    },
    "papermill": {
     "duration": 1.032767,
     "end_time": "2022-03-19T01:53:44.263565",
     "exception": false,
     "start_time": "2022-03-19T01:53:43.230798",
     "status": "completed"
    },
    "tags": []
   },
   "outputs": [],
   "source": [
    "# get imf metadata\n",
    "imf_datasets <- rdbnomics::rdb_datasets(provider_code = \"IMF\")"
   ]
  },
  {
   "cell_type": "code",
   "execution_count": 5,
   "id": "4ef99b8e",
   "metadata": {
    "execution": {
     "iopub.execute_input": "2022-03-19T01:53:44.280575Z",
     "iopub.status.busy": "2022-03-19T01:53:44.279565Z",
     "iopub.status.idle": "2022-03-19T01:53:50.739442Z",
     "shell.execute_reply": "2022-03-19T01:53:50.738442Z"
    },
    "papermill": {
     "duration": 6.469837,
     "end_time": "2022-03-19T01:53:50.739442",
     "exception": false,
     "start_time": "2022-03-19T01:53:44.269605",
     "status": "completed"
    },
    "tags": []
   },
   "outputs": [],
   "source": [
    "dataset <- \"DOT\"\n",
    "dim <- rdbnomics::rdb_dimensions(provider_code = \"IMF\", dataset_code = dataset)\n",
    "countries <- dim$IMF$DOT$REF_AREA\n",
    "counterpart <- dim$IMF$DOT$COUNTERPART_AREA"
   ]
  },
  {
   "cell_type": "code",
   "execution_count": 6,
   "id": "5f3e7ff3",
   "metadata": {
    "execution": {
     "iopub.execute_input": "2022-03-19T01:53:50.761453Z",
     "iopub.status.busy": "2022-03-19T01:53:50.759460Z",
     "iopub.status.idle": "2022-03-19T01:53:50.785471Z",
     "shell.execute_reply": "2022-03-19T01:53:50.784474Z"
    },
    "papermill": {
     "duration": 0.038016,
     "end_time": "2022-03-19T01:53:50.785471",
     "exception": false,
     "start_time": "2022-03-19T01:53:50.747455",
     "status": "completed"
    },
    "tags": []
   },
   "outputs": [],
   "source": [
    "write.csv(countries, product$countries)\n",
    "write.csv(counterpart, product$counterparts)"
   ]
  },
  {
   "cell_type": "code",
   "execution_count": null,
   "id": "6d2ea38b",
   "metadata": {
    "papermill": {
     "duration": 0.004965,
     "end_time": "2022-03-19T01:53:50.795443",
     "exception": false,
     "start_time": "2022-03-19T01:53:50.790478",
     "status": "completed"
    },
    "tags": []
   },
   "outputs": [],
   "source": []
  }
 ],
 "metadata": {
  "jupytext": {
   "main_language": "R",
   "notebook_metadata_filter": "ploomber",
   "text_representation": {
    "extension": ".R",
    "format_name": "light"
   }
  },
  "kernelspec": {
   "display_name": "R",
   "language": "R",
   "name": "ir"
  },
  "language_info": {
   "codemirror_mode": "r",
   "file_extension": ".r",
   "mimetype": "text/x-r-source",
   "name": "R",
   "pygments_lexer": "r",
   "version": "4.0.3"
  },
  "papermill": {
   "duration": 9.907423,
   "end_time": "2022-03-19T01:53:50.923945",
   "exception": null,
   "input_path": "C:\\Users\\yosty\\AppData\\Local\\Temp\\tmps0lso93p.ipynb",
   "output_path": "C:\\Users\\yosty\\Desktop\\Desktop_Folder\\14 - git\\timeSeriesDOTS\\ploomber\\dots\\00-data\\downLoadMetaData.ipynb",
   "parameters": {
    "product": {
     "counterparts": "C:\\Users\\yosty\\Desktop\\Desktop_Folder\\14 - git\\timeSeriesDOTS\\ploomber\\dots\\00-data\\metadata\\counterparts.csv",
     "countries": "C:\\Users\\yosty\\Desktop\\Desktop_Folder\\14 - git\\timeSeriesDOTS\\ploomber\\dots\\00-data\\metadata\\countries.csv",
     "nb": "C:\\Users\\yosty\\Desktop\\Desktop_Folder\\14 - git\\timeSeriesDOTS\\ploomber\\dots\\00-data\\downLoadMetaData.ipynb"
    }
   },
   "start_time": "2022-03-19T01:53:41.016522"
  },
  "ploomber": {
   "injected_manually": true
  }
 },
 "nbformat": 4,
 "nbformat_minor": 5
}