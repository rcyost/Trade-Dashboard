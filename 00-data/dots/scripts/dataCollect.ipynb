{
 "cells": [
  {
   "cell_type": "code",
   "execution_count": 1,
   "id": "207f332e",
   "metadata": {
    "execution": {
     "iopub.execute_input": "2022-03-19T02:31:55.472651Z",
     "iopub.status.busy": "2022-03-19T02:31:55.471649Z",
     "iopub.status.idle": "2022-03-19T02:31:55.479673Z",
     "shell.execute_reply": "2022-03-19T02:31:55.478648Z"
    },
    "lines_to_next_cell": 2,
    "papermill": {
     "duration": 0.016925,
     "end_time": "2022-03-19T02:31:55.479673",
     "exception": false,
     "start_time": "2022-03-19T02:31:55.462748",
     "status": "completed"
    },
    "tags": [
     "parameters"
    ]
   },
   "outputs": [],
   "source": [
    "upstream = ['downLoadMetaData'] # this means: execute raw.py, then clean.py\n",
    "product = None"
   ]
  },
  {
   "cell_type": "code",
   "execution_count": 2,
   "id": "192fe5a1",
   "metadata": {
    "execution": {
     "iopub.execute_input": "2022-03-19T02:31:55.491686Z",
     "iopub.status.busy": "2022-03-19T02:31:55.490684Z",
     "iopub.status.idle": "2022-03-19T02:31:55.497651Z",
     "shell.execute_reply": "2022-03-19T02:31:55.499653Z"
    },
    "papermill": {
     "duration": 0.015001,
     "end_time": "2022-03-19T02:31:55.499653",
     "exception": false,
     "start_time": "2022-03-19T02:31:55.484652",
     "status": "completed"
    },
    "tags": [
     "injected-parameters"
    ]
   },
   "outputs": [],
   "source": [
    "# Parameters\n",
    "upstream = {\"downLoadMetaData\": {\"nb\": \"C:\\\\Users\\\\yosty\\\\Desktop\\\\Desktop_Folder\\\\14 - git\\\\timeSeriesDOTS\\\\ploomber\\\\dots\\\\00-data\\\\downLoadMetaData.ipynb\", \"counterparts\": \"C:\\\\Users\\\\yosty\\\\Desktop\\\\Desktop_Folder\\\\14 - git\\\\timeSeriesDOTS\\\\ploomber\\\\dots\\\\00-data\\\\metadata\\\\counterparts.csv\", \"countries\": \"C:\\\\Users\\\\yosty\\\\Desktop\\\\Desktop_Folder\\\\14 - git\\\\timeSeriesDOTS\\\\ploomber\\\\dots\\\\00-data\\\\metadata\\\\countries.csv\"}}\n",
    "product = {\"nb\": \"C:\\\\Users\\\\yosty\\\\Desktop\\\\Desktop_Folder\\\\14 - git\\\\timeSeriesDOTS\\\\ploomber\\\\dots\\\\00-data\\\\dataCollect.ipynb\", \"files\": \"C:\\\\Users\\\\yosty\\\\Desktop\\\\Desktop_Folder\\\\14 - git\\\\timeSeriesDOTS\\\\ploomber\\\\dots\\\\00-data\\\\raw\", \"DOTS\": \"C:\\\\Users\\\\yosty\\\\Desktop\\\\Desktop_Folder\\\\14 - git\\\\timeSeriesDOTS\\\\ploomber\\\\dots\\\\00-data\\\\clean\\\\DOTS.csv\"}\n"
   ]
  },
  {
   "cell_type": "code",
   "execution_count": 3,
   "id": "9be1bb10",
   "metadata": {
    "execution": {
     "iopub.execute_input": "2022-03-19T02:31:55.515670Z",
     "iopub.status.busy": "2022-03-19T02:31:55.514648Z",
     "iopub.status.idle": "2022-03-19T02:31:56.098992Z",
     "shell.execute_reply": "2022-03-19T02:31:56.097992Z"
    },
    "lines_to_next_cell": 2,
    "papermill": {
     "duration": 0.594316,
     "end_time": "2022-03-19T02:31:56.098992",
     "exception": false,
     "start_time": "2022-03-19T02:31:55.504676",
     "status": "completed"
    },
    "tags": []
   },
   "outputs": [],
   "source": [
    "\n",
    "import pandas as pd\n",
    "from dbnomics import fetch_series\n",
    "import os\n",
    "\n",
    "# r seems to have saved this in some odd way\n",
    "countries=pd.read_csv(upstream['downLoadMetaData']['countries'])\n",
    "counterparts=pd.read_csv(upstream['downLoadMetaData']['counterparts'])"
   ]
  },
  {
   "cell_type": "code",
   "execution_count": 4,
   "id": "1122b890",
   "metadata": {
    "execution": {
     "iopub.execute_input": "2022-03-19T02:31:56.115993Z",
     "iopub.status.busy": "2022-03-19T02:31:56.114993Z",
     "iopub.status.idle": "2022-03-19T04:28:28.894143Z",
     "shell.execute_reply": "2022-03-19T04:28:28.890145Z"
    },
    "papermill": {
     "duration": 6992.793152,
     "end_time": "2022-03-19T04:28:28.896143",
     "exception": false,
     "start_time": "2022-03-19T02:31:56.102991",
     "status": "completed"
    },
    "tags": []
   },
   "outputs": [],
   "source": [
    "# TODO: parameterize import/export with ploomber\n",
    "# goods, value of imports CIF price - TMG_CIF_USD\n",
    "# goods, value of exports FOD - TXG_FOB_USD\n",
    "\n",
    "\n",
    "for econ in countries['REF_AREA']:\n",
    "    try:\n",
    "        data = fetch_series(\n",
    "                provider_code='IMF',\n",
    "                dataset_code='DOT',\n",
    "                max_nb_series=1000000,\n",
    "                dimensions={\n",
    "                \"FREQ\":[\"M\"],\n",
    "                \"REF_AREA\":[f\"{econ}\"],\n",
    "                \"INDICATOR\":[\"TXG_FOB_USD\"]}\n",
    "            )\n",
    "        data.to_csv(rf'{str(product[\"files\"])}\\{econ}.csv')\n",
    "    except:\n",
    "        # TODO: Log this economy that didn't work\n",
    "        pass"
   ]
  },
  {
   "cell_type": "code",
   "execution_count": 5,
   "id": "d0557532",
   "metadata": {
    "execution": {
     "iopub.execute_input": "2022-03-19T04:28:28.933111Z",
     "iopub.status.busy": "2022-03-19T04:28:28.933111Z",
     "iopub.status.idle": "2022-03-19T04:32:55.942671Z",
     "shell.execute_reply": "2022-03-19T04:32:55.941674Z"
    },
    "papermill": {
     "duration": 267.020532,
     "end_time": "2022-03-19T04:32:55.942671",
     "exception": false,
     "start_time": "2022-03-19T04:28:28.922139",
     "status": "completed"
    },
    "tags": []
   },
   "outputs": [],
   "source": [
    "\n",
    "path = product['files']\n",
    "directory = os.fsencode(path)\n",
    "\n",
    "dfList = []\n",
    "\n",
    "for file in os.listdir(directory):\n",
    "     filename = os.fsdecode(file)\n",
    "     if filename.endswith(\".csv\"):\n",
    "         dfList.append(pd.read_csv(os.path.join(path, filename)))\n",
    "     else:\n",
    "         continue\n",
    "\n",
    "data = pd.concat(dfList)\n",
    "\n",
    "data.to_csv(product['DOTS'])"
   ]
  }
 ],
 "metadata": {
  "jupytext": {
   "notebook_metadata_filter": "ploomber",
   "text_representation": {
    "extension": ".py",
    "format_name": "percent",
    "format_version": "1.3",
    "jupytext_version": "1.13.7"
   }
  },
  "kernelspec": {
   "display_name": "Python 3 (ipykernel)",
   "language": "python",
   "name": "python3"
  },
  "language_info": {
   "codemirror_mode": {
    "name": "ipython",
    "version": 3
   },
   "file_extension": ".py",
   "mimetype": "text/x-python",
   "name": "python",
   "nbconvert_exporter": "python",
   "pygments_lexer": "ipython3",
   "version": "3.9.5"
  },
  "papermill": {
   "duration": 7263.36448,
   "end_time": "2022-03-19T04:32:57.511584",
   "exception": null,
   "input_path": "C:\\Users\\yosty\\AppData\\Local\\Temp\\tmpzrcib3sw.ipynb",
   "output_path": "C:\\Users\\yosty\\Desktop\\Desktop_Folder\\14 - git\\timeSeriesDOTS\\ploomber\\dots\\00-data\\dataCollect.ipynb",
   "parameters": {
    "product": {
     "DOTS": "C:\\Users\\yosty\\Desktop\\Desktop_Folder\\14 - git\\timeSeriesDOTS\\ploomber\\dots\\00-data\\clean\\DOTS.csv",
     "files": "C:\\Users\\yosty\\Desktop\\Desktop_Folder\\14 - git\\timeSeriesDOTS\\ploomber\\dots\\00-data\\raw",
     "nb": "C:\\Users\\yosty\\Desktop\\Desktop_Folder\\14 - git\\timeSeriesDOTS\\ploomber\\dots\\00-data\\dataCollect.ipynb"
    },
    "upstream": {
     "downLoadMetaData": {
      "counterparts": "C:\\Users\\yosty\\Desktop\\Desktop_Folder\\14 - git\\timeSeriesDOTS\\ploomber\\dots\\00-data\\metadata\\counterparts.csv",
      "countries": "C:\\Users\\yosty\\Desktop\\Desktop_Folder\\14 - git\\timeSeriesDOTS\\ploomber\\dots\\00-data\\metadata\\countries.csv",
      "nb": "C:\\Users\\yosty\\Desktop\\Desktop_Folder\\14 - git\\timeSeriesDOTS\\ploomber\\dots\\00-data\\downLoadMetaData.ipynb"
     }
    }
   },
   "start_time": "2022-03-19T02:31:54.147104"
  },
  "ploomber": {
   "injected_manually": true
  }
 },
 "nbformat": 4,
 "nbformat_minor": 5
}