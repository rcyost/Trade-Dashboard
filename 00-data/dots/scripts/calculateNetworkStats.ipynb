{
 "cells": [
  {
   "cell_type": "code",
   "execution_count": 1,
   "id": "948d99aa",
   "metadata": {
    "execution": {
     "iopub.execute_input": "2022-03-19T17:03:55.051532Z",
     "iopub.status.busy": "2022-03-19T17:03:55.050532Z",
     "iopub.status.idle": "2022-03-19T17:03:55.066309Z",
     "shell.execute_reply": "2022-03-19T17:03:55.065264Z"
    },
    "lines_to_next_cell": 2,
    "papermill": {
     "duration": 0.034822,
     "end_time": "2022-03-19T17:03:55.066309",
     "exception": false,
     "start_time": "2022-03-19T17:03:55.031487",
     "status": "completed"
    },
    "tags": [
     "parameters"
    ]
   },
   "outputs": [],
   "source": [
    "upstream = ['dataCollect'] # this means: execute raw.py, then clean.py\n",
    "product = None"
   ]
  },
  {
   "cell_type": "code",
   "execution_count": 2,
   "id": "7c326de5",
   "metadata": {
    "execution": {
     "iopub.execute_input": "2022-03-19T17:03:55.080289Z",
     "iopub.status.busy": "2022-03-19T17:03:55.079267Z",
     "iopub.status.idle": "2022-03-19T17:03:55.096637Z",
     "shell.execute_reply": "2022-03-19T17:03:55.096637Z"
    },
    "papermill": {
     "duration": 0.026346,
     "end_time": "2022-03-19T17:03:55.097631",
     "exception": false,
     "start_time": "2022-03-19T17:03:55.071285",
     "status": "completed"
    },
    "tags": [
     "injected-parameters"
    ]
   },
   "outputs": [],
   "source": [
    "# Parameters\n",
    "upstream = {\"dataCollect\": {\"nb\": \"C:\\\\Users\\\\yosty\\\\Desktop\\\\Desktop_Folder\\\\14 - git\\\\timeSeriesDOTS\\\\ploomber\\\\dots\\\\00-data\\\\dataCollect.ipynb\", \"files\": \"C:\\\\Users\\\\yosty\\\\Desktop\\\\Desktop_Folder\\\\14 - git\\\\timeSeriesDOTS\\\\ploomber\\\\dots\\\\00-data\\\\raw\", \"DOTS\": \"C:\\\\Users\\\\yosty\\\\Desktop\\\\Desktop_Folder\\\\14 - git\\\\timeSeriesDOTS\\\\ploomber\\\\dots\\\\00-data\\\\clean\\\\DOTS.csv\"}}\n",
    "product = {\"nb\": \"C:\\\\Users\\\\yosty\\\\Desktop\\\\Desktop_Folder\\\\14 - git\\\\timeSeriesDOTS\\\\ploomber\\\\dots\\\\00-data\\\\calculateNetworkStats.ipynb\", \"DOTSnetStats\": \"C:\\\\Users\\\\yosty\\\\Desktop\\\\Desktop_Folder\\\\14 - git\\\\timeSeriesDOTS\\\\ploomber\\\\dots\\\\00-data\\\\clean\\\\DOTSnetStats.csv\"}\n"
   ]
  },
  {
   "cell_type": "code",
   "execution_count": 3,
   "id": "9f612026",
   "metadata": {
    "execution": {
     "iopub.execute_input": "2022-03-19T17:03:55.108632Z",
     "iopub.status.busy": "2022-03-19T17:03:55.108632Z",
     "iopub.status.idle": "2022-03-19T17:03:56.284667Z",
     "shell.execute_reply": "2022-03-19T17:03:56.285668Z"
    },
    "lines_to_next_cell": 2,
    "papermill": {
     "duration": 1.184003,
     "end_time": "2022-03-19T17:03:56.285668",
     "exception": false,
     "start_time": "2022-03-19T17:03:55.101665",
     "status": "completed"
    },
    "tags": []
   },
   "outputs": [],
   "source": [
    "\n",
    "import pandas as pd\n",
    "import os\n",
    "import numpy as np\n",
    "import networkx as nx\n",
    "\n",
    "\n",
    "from networkx.algorithms.approximation.connectivity import node_connectivity\n",
    "from networkx.algorithms.bridges import has_bridges\n",
    "from networkx.algorithms.link_analysis.pagerank_alg import pagerank, pagerank_numpy\n",
    "from networkx.algorithms.approximation.connectivity import node_connectivity\n",
    "from networkx.algorithms.bridges import has_bridges"
   ]
  },
  {
   "cell_type": "code",
   "execution_count": 4,
   "id": "15769c80",
   "metadata": {
    "execution": {
     "iopub.execute_input": "2022-03-19T17:03:56.300703Z",
     "iopub.status.busy": "2022-03-19T17:03:56.299688Z",
     "iopub.status.idle": "2022-03-19T17:04:55.763909Z",
     "shell.execute_reply": "2022-03-19T17:04:55.763909Z"
    },
    "papermill": {
     "duration": 59.472249,
     "end_time": "2022-03-19T17:04:55.764943",
     "exception": false,
     "start_time": "2022-03-19T17:03:56.292694",
     "status": "completed"
    },
    "tags": []
   },
   "outputs": [],
   "source": [
    "\n",
    "data=pd.read_csv(upstream['dataCollect']['DOTS'])\n",
    "\n",
    "keepCols=['series_code', 'period', 'value', 'REF_AREA', 'INDICATOR', 'COUNTERPART_AREA', 'Reference Area', 'Counterpart Reference Area']\n",
    "\n",
    "cleanData = data[keepCols]"
   ]
  },
  {
   "cell_type": "code",
   "execution_count": 5,
   "id": "1a551eaf",
   "metadata": {
    "execution": {
     "iopub.execute_input": "2022-03-19T17:04:55.792411Z",
     "iopub.status.busy": "2022-03-19T17:04:55.788582Z",
     "iopub.status.idle": "2022-03-19T17:04:56.326480Z",
     "shell.execute_reply": "2022-03-19T17:04:56.327482Z"
    },
    "papermill": {
     "duration": 0.55757,
     "end_time": "2022-03-19T17:04:56.327482",
     "exception": false,
     "start_time": "2022-03-19T17:04:55.769912",
     "status": "completed"
    },
    "tags": []
   },
   "outputs": [
    {
     "name": "stderr",
     "output_type": "stream",
     "text": [
      "C:\\Users\\yosty\\AppData\\Local\\Temp/ipykernel_32812/2459879807.py:5: SettingWithCopyWarning: \n",
      "A value is trying to be set on a copy of a slice from a DataFrame\n",
      "\n",
      "See the caveats in the documentation: https://pandas.pydata.org/pandas-docs/stable/user_guide/indexing.html#returning-a-view-versus-a-copy\n",
      "  cleanData.rename(columns={'Counterpart Reference Area':'CounterpartReferenceArea',\n"
     ]
    }
   ],
   "source": [
    "# cleanData['INDICATOR'].unique()\n",
    "# cleanData['Reference Area'].unique()\n",
    "# cleanData['Counterpart Reference Area'].unique()\n",
    "\n",
    "cleanData.rename(columns={'Counterpart Reference Area':'CounterpartReferenceArea',\n",
    "        'Reference Area':'ReferenceArea'}, inplace=True)"
   ]
  },
  {
   "cell_type": "code",
   "execution_count": 6,
   "id": "cedbf91b",
   "metadata": {
    "execution": {
     "iopub.execute_input": "2022-03-19T17:04:56.344481Z",
     "iopub.status.busy": "2022-03-19T17:04:56.341483Z",
     "iopub.status.idle": "2022-03-19T17:05:10.751332Z",
     "shell.execute_reply": "2022-03-19T17:05:10.751332Z"
    },
    "lines_to_next_cell": 2,
    "papermill": {
     "duration": 14.418851,
     "end_time": "2022-03-19T17:05:10.751332",
     "exception": false,
     "start_time": "2022-03-19T17:04:56.332481",
     "status": "completed"
    },
    "tags": []
   },
   "outputs": [],
   "source": [
    "\n",
    "# drop groups\n",
    "# clean nan filled economies\n",
    "\n",
    "wideData = (cleanData\n",
    "    .pivot_table(\n",
    "        index=['period', 'CounterpartReferenceArea'],\n",
    "        columns='ReferenceArea',\n",
    "        values='value'))"
   ]
  },
  {
   "cell_type": "code",
   "execution_count": 7,
   "id": "62f98b4e",
   "metadata": {
    "execution": {
     "iopub.execute_input": "2022-03-19T17:05:10.769370Z",
     "iopub.status.busy": "2022-03-19T17:05:10.768394Z",
     "iopub.status.idle": "2022-03-19T17:05:38.391900Z",
     "shell.execute_reply": "2022-03-19T17:05:38.391900Z"
    },
    "papermill": {
     "duration": 27.634568,
     "end_time": "2022-03-19T17:05:38.391900",
     "exception": false,
     "start_time": "2022-03-19T17:05:10.757332",
     "status": "completed"
    },
    "tags": []
   },
   "outputs": [
    {
     "name": "stdout",
     "output_type": "stream",
     "text": [
      "Lost:  19.0 % rows due to dropping groups\n"
     ]
    }
   ],
   "source": [
    "\n",
    "# remove groups\n",
    "# decided to keep 'Special Categories and Economic Zones' - sounds interesting\n",
    "# and wouldn't cause overlap to include i think\n",
    "removeList = [\n",
    "'Export earnings: fuel',\n",
    "'Export earnings: nonfuel',\n",
    "'Middle East, North Africa, Afghanistan, and Pakistan',\n",
    "'Emerging and Developing Europe',\n",
    "'Western Hemisphere',\n",
    "'Western Hemisphere not allocated',\n",
    "'EU (Member States and Institutions of the European Union) changing composition',\n",
    "'Euro Area (Member States and Institutions of the Euro Area) changing composition',\n",
    "'Europe',\n",
    "'Europe not allocated',\n",
    "'Africa',\n",
    "'Africa not allocated',\n",
    "'Sub-Saharan Africa',\n",
    "'Middle East',\n",
    "'Middle East and Central Asia not specified',\n",
    "'Other Countries n.i.e. (IMF)',\n",
    "'Advanced Economies (IMF)',\n",
    "'Emerging and Developing Countries',\n",
    "'Developing Asia (IMF)',\n",
    "'Middle East and Central Asia',\n",
    "'Belgo-Luxembourg Economic Union',\n",
    "'Community of Independent States (CIS)',\n",
    "'Asia not allocated',\n",
    "'Former U.S.S.R.',\n",
    "'All Countries, excluding the IO']\n",
    "\n",
    "\n",
    "dataLong = (wideData\n",
    "    .melt(ignore_index=False)\n",
    "    .query('CounterpartReferenceArea not in @removeList')\n",
    "    .query('ReferenceArea not in @removeList')\n",
    ")\n",
    "\n",
    "print(\"Lost: \", np.round((wideData.melt().shape[0] - dataLong.shape[0]) / wideData.melt().shape[0], 2) * 100, \"% rows due to dropping groups\")\n",
    "\n",
    "wideData2 = dataLong.pivot_table(index=['period', 'CounterpartReferenceArea'],\n",
    "                                columns='ReferenceArea',\n",
    "                                values='value')\n",
    "\n",
    "dataLong.reset_index(inplace=True)\n",
    "dataLong.rename(columns={'value':'weight'}, inplace=True)\n",
    "\n",
    "\n",
    "# #%%\n",
    "# # nans\n",
    "\n",
    "# colna = wideData2.isna().sum()\n",
    "# colna = colna / wideData2.shape[0]\n",
    "# colna.nlargest(20)\n",
    "\n",
    "# #%%\n",
    "# colna.nsmallest(20)\n",
    "\n"
   ]
  },
  {
   "cell_type": "code",
   "execution_count": 8,
   "id": "54977e25",
   "metadata": {
    "execution": {
     "iopub.execute_input": "2022-03-19T17:05:39.117311Z",
     "iopub.status.busy": "2022-03-19T17:05:38.413900Z",
     "iopub.status.idle": "2022-03-19T17:46:30.428483Z",
     "shell.execute_reply": "2022-03-19T17:46:30.427535Z"
    },
    "lines_to_next_cell": 2,
    "papermill": {
     "duration": 2452.030584,
     "end_time": "2022-03-19T17:46:30.428483",
     "exception": false,
     "start_time": "2022-03-19T17:05:38.397899",
     "status": "completed"
    },
    "tags": []
   },
   "outputs": [
    {
     "name": "stderr",
     "output_type": "stream",
     "text": [
      "C:\\Users\\yosty\\AppData\\Local\\Temp/ipykernel_32812/3935419508.py:7: SettingWithCopyWarning: \n",
      "A value is trying to be set on a copy of a slice from a DataFrame\n",
      "\n",
      "See the caveats in the documentation: https://pandas.pydata.org/pandas-docs/stable/user_guide/indexing.html#returning-a-view-versus-a-copy\n",
      "  tempData.dropna(axis=0, inplace=True)\n"
     ]
    }
   ],
   "source": [
    "\n",
    "\n",
    "dates = dataLong['period'].unique()\n",
    "\n",
    "stats=[]\n",
    "for date in dates:\n",
    "\n",
    "    tempData=dataLong.query('period == @date')\n",
    "    tempData.dropna(axis=0, inplace=True)\n",
    "\n",
    "    G = nx.from_pandas_edgelist(df = tempData,\n",
    "                                        source = \"ReferenceArea\",\n",
    "                                        target = \"CounterpartReferenceArea\",\n",
    "                                        edge_attr = \"weight\",\n",
    "                                        create_using = nx.DiGraph())\n",
    "\n",
    "    tempdf = pd.DataFrame( dict(\n",
    "                    # key data\n",
    "                    # typf of graph\n",
    "                    #graphType = G.\n",
    "                    PERIOD = date,\n",
    "\n",
    "\n",
    "                    # --------------------------------MICRO\n",
    "\n",
    "                    ## ---- Centrality\n",
    "                    # returns a dict of node's degree\n",
    "                    DEGREE = dict(G.degree),\n",
    "                    IN_DEGREE = dict(G.in_degree),\n",
    "                    OUT_DEGREE = dict(G.out_degree),\n",
    "\n",
    "                    # fraction of nodes a node is connected to\n",
    "                    DEGREE_CENTRALITY = nx.degree_centrality(G),\n",
    "                    IN_DEGREE_CENTRALITY = nx.in_degree_centrality(G),\n",
    "                    OUT_DEGREE_CENTRALITY = nx.out_degree_centrality(G),\n",
    "                    AVG_NEIGHBOR_DEGREE = nx.average_neighbor_degree(G),\n",
    "\n",
    "                    # centrality based on importance of edges\n",
    "                    PAGERANK = pagerank(G, weight = 'weight'),\n",
    "                    PAGERANK_NUMPY = pagerank_numpy(G, weight = 'weight'),\n",
    "\n",
    "\n",
    "                    # centrality based on neighbors\n",
    "                    #EIGENVECTOR_CENTRAL = nx.eigenvector_centrality_numpy(G),\n",
    "                    # generalization of eigen centrality\n",
    "                    KATZ = nx.katz_centrality_numpy(G),\n",
    "                    CLOSENESS_CENTRALITY = nx.closeness_centrality(G),\n",
    "                    BETWEENNESS_CENTRALITY = nx.betweenness_centrality(G),\n",
    "\n",
    "                    ## ---- Paths\n",
    "\n",
    "                    ## ---- Clustering\n",
    "                    # node clustering scores\n",
    "                    CLUSTCOEF = nx.clustering(G),\n",
    "\n",
    "\n",
    "\n",
    "                    #-----------------------------------MACRO\n",
    "                    ##  --- Size\n",
    "                    NUM_NODES = G.number_of_nodes(),\n",
    "                    NUM_EDGES = G.number_of_edges(),\n",
    "                    TOTAL_NET_VALUE = tempData['weight'].sum(),\n",
    "\n",
    "                    ## ----- Connectivity\n",
    "                    CONNECTIVITY = node_connectivity(G),\n",
    "\n",
    "                    # edge whose removal causes the number of connected components of the graph to increase\n",
    "                    HAS_BRIDGE = has_bridges(nx.Graph(G)),\n",
    "\n",
    "                    ## ---- Clustering\n",
    "                    # ego net clusterting score\n",
    "                    # graph clustering score\n",
    "                    AVERAGECLUSTCOEF = nx.average_clustering(G),\n",
    "                    TRIANGLES = nx.triangles(nx.Graph(G)),\n",
    "\n",
    "                ))\n",
    "\n",
    "    stats.append(tempdf)\n",
    "    # print(date)\n",
    "\n",
    "\n",
    "statDF = pd.concat(stats)\n",
    "statDF.reset_index(inplace=True)\n",
    "statDF.to_csv(str(product['DOTSnetStats']))"
   ]
  }
 ],
 "metadata": {
  "jupytext": {
   "notebook_metadata_filter": "ploomber",
   "text_representation": {
    "extension": ".py",
    "format_name": "percent",
    "format_version": "1.3",
    "jupytext_version": "1.13.7"
   }
  },
  "kernelspec": {
   "display_name": "Python 3 (ipykernel)",
   "language": "python",
   "name": "python3"
  },
  "language_info": {
   "codemirror_mode": {
    "name": "ipython",
    "version": 3
   },
   "file_extension": ".py",
   "mimetype": "text/x-python",
   "name": "python",
   "nbconvert_exporter": "python",
   "pygments_lexer": "ipython3",
   "version": "3.9.5"
  },
  "papermill": {
   "duration": 2558.970302,
   "end_time": "2022-03-19T17:46:32.203196",
   "exception": null,
   "input_path": "C:\\Users\\yosty\\AppData\\Local\\Temp\\tmpdtw170ji.ipynb",
   "output_path": "C:\\Users\\yosty\\Desktop\\Desktop_Folder\\14 - git\\timeSeriesDOTS\\ploomber\\dots\\00-data\\calculateNetworkStats.ipynb",
   "parameters": {
    "product": {
     "DOTSnetStats": "C:\\Users\\yosty\\Desktop\\Desktop_Folder\\14 - git\\timeSeriesDOTS\\ploomber\\dots\\00-data\\clean\\DOTSnetStats.csv",
     "nb": "C:\\Users\\yosty\\Desktop\\Desktop_Folder\\14 - git\\timeSeriesDOTS\\ploomber\\dots\\00-data\\calculateNetworkStats.ipynb"
    },
    "upstream": {
     "dataCollect": {
      "DOTS": "C:\\Users\\yosty\\Desktop\\Desktop_Folder\\14 - git\\timeSeriesDOTS\\ploomber\\dots\\00-data\\clean\\DOTS.csv",
      "files": "C:\\Users\\yosty\\Desktop\\Desktop_Folder\\14 - git\\timeSeriesDOTS\\ploomber\\dots\\00-data\\raw",
      "nb": "C:\\Users\\yosty\\Desktop\\Desktop_Folder\\14 - git\\timeSeriesDOTS\\ploomber\\dots\\00-data\\dataCollect.ipynb"
     }
    }
   },
   "start_time": "2022-03-19T17:03:53.232894"
  },
  "ploomber": {
   "injected_manually": true
  }
 },
 "nbformat": 4,
 "nbformat_minor": 5
}